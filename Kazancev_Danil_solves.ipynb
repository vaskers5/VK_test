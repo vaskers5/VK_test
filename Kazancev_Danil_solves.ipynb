{
 "cells": [
  {
   "cell_type": "markdown",
   "metadata": {},
   "source": [
    "# A_Task"
   ]
  },
  {
   "cell_type": "markdown",
   "metadata": {},
   "source": [
    "### 1)Описание:"
   ]
  },
  {
   "cell_type": "markdown",
   "metadata": {},
   "source": [
    "Есть 100 значений некоторой абстрактной переменной, по которым была обучена модель. Затем была посчитана среднеквадратическая ошибка (MSE). Для 80 случаев разница истинного и предсказанного значения составляет 0,5, а для остальных 20 случаев равняется -0,3. Вы знаете, что модель была обучена неверно. Если добавить к ответам модели некоторую константу C, то результат улучшится. Существует ли такая константа? Если да, найдите её."
   ]
  },
  {
   "cell_type": "markdown",
   "metadata": {},
   "source": [
    "### Решение:\n",
    "\n",
    "Ответ: Да, существует и ее примерное значение будет равно: -0.332 \n",
    "\n",
    "В качестве доказательства ответа я написал код, который подбирает константу для заданных значений.\n",
    "В этом коде я считаю mse_score для различных значений переменной C:"
   ]
  },
  {
   "cell_type": "code",
   "execution_count": 9,
   "metadata": {},
   "outputs": [
    {
     "name": "stdout",
     "output_type": "stream",
     "text": [
      "mse_score without variable: 0.21639999999999998 \n",
      "\n",
      "mse_score with varuable: \n",
      " variable: -0.3319999999999994 \n",
      " score: 0.10617600000000003 \n",
      "\n"
     ]
    },
    {
     "data": {
      "image/png": "[encoded data removed]",
      "text/plain": [
       "<Figure size 432x288 with 1 Axes>"
      ]
     },
     "metadata": {
      "needs_background": "light"
     },
     "output_type": "display_data"
    }
   ],
   "source": [
    "import matplotlib.pyplot as plt\n",
    "\n",
    "class Iterator:\n",
    "    def __init__(self, step):\n",
    "        self.start = -1\n",
    "        self.end = 1\n",
    "        self.num = self.start\n",
    "        self.step = step\n",
    "        \n",
    "    def __iter__(self):\n",
    "        return self\n",
    "    \n",
    "    def __next__(self):\n",
    "        if self.num < self.end:\n",
    "            num = self.num\n",
    "            self.num += self.step\n",
    "            return num\n",
    "\n",
    "def mse_variable_score(variable):\n",
    "    new_preds = [(variable + elem)**2 for elem in preds]\n",
    "    return sum(new_preds) / len(new_preds)\n",
    "\n",
    "\n",
    "\n",
    "condition = lambda index: 0.5 if index < 79 else -0.3\n",
    "preds = list(map(condition, range(100)))\n",
    "\n",
    "answers = []\n",
    "variables = []\n",
    "for i in Iterator(0.001):\n",
    "    if i != None:\n",
    "        score = mse_variable_score(i)\n",
    "        if score <= 1:\n",
    "            answers.append(mse_variable_score(i))\n",
    "            variables.append(i)\n",
    "    else:\n",
    "        break\n",
    "\n",
    "max_elem = 0\n",
    "max_score = float(\"inf\")\n",
    "\n",
    "for index, score in enumerate(answers):\n",
    "    if score < max_score:\n",
    "        max_elem = variables[index]\n",
    "        max_score = score\n",
    "        \n",
    "print(\"mse_score without variable:\", mse_variable_score(0),\"\\n\")\n",
    "print(\"mse_score with varuable:\", \"\\n\", \"variable:\", max_elem,\n",
    "      \"\\n\", \"score:\", max_score, \"\\n\")\n",
    "plt.xlabel('variable')\n",
    "plt.ylabel('score')\n",
    "plt.title(\"MSE_Score\")\n",
    "plt.plot(variables, answers)\n",
    "plt.show()"
   ]
  },
  {
   "cell_type": "markdown",
   "metadata": {},
   "source": [
    "### 2)Описание:"
   ]
  },
  {
   "cell_type": "markdown",
   "metadata": {},
   "source": [
    "Существует некий временной ряд, область допустимых значений которого [0; +∞). Допустим, это количество шагов. Предположим, вы используете два алгоритма машинного обучения для построения модели, предсказывающей количество шагов в определённый день, — градиентный бустинг и случайный лес. Какой из данных алгоритмов может возвращать отрицательные значения в качестве прогнозируемых и почему?"
   ]
  },
  {
   "cell_type": "markdown",
   "metadata": {},
   "source": [
    "### Решение:\n",
    "\n",
    "Ответ: Градиентный бустинг. Дальше я постараюсь объяснить почему:\n",
    "\n",
    "1)Для начала дам краткий ответ почему это не может быть Random Forest: Поскольку особенностью этой модели является усреднение прогнозов всех деревьев, следовательно проблемой нашей модели является скорее то, что мы можем не отследить тенденцию в данных, подробнее это описано в этой статье: https://neptune.ai/blog/random-forest-regression-when-does-it-fail-and-why. Так как мы усредняем значения всех выходов, мы явно не можем получить что-то на подобии отрицательных значений на датасете, состоящем из положительных чисел.\n",
    "\n",
    "2)Так как Gradient Boosting последовательно подгоняет деревья регрессии к остаткам предыдущего этапа обучения, можно заметить следующее: Если дерево на текущем этапе предсказывает значение, превышающее истинное значение конкретного обучающего примера, остаток на этом этапе для этого примера будет отрицательным, и поэтому дерево регрессии на следующем этапе  столкнется с отрицательными целевыми значениями. Поскольку модель складывает все эти деревья, чтобы сделать окончательный прогноз может возникнуть ситуациия, когда сумма отрицательных остатков превысит положительные выходы и мы получим отрицательный прогноз модели. Подобное часто происходит при увеличении количества решающих деревьев. В качестве используемого материала прикреплю ссылку статью с описанием модели из википедии: https://clck.ru/VECNq"
   ]
  },
  {
   "cell_type": "markdown",
   "metadata": {},
   "source": [
    "### 3)Описание:\n",
    "\n",
    "Предположим, мы обучили линейную модель. Анализируя остатки модели, мы обнаружили значительную гетероскедастичность. Ваш коллега предложил использовать стандартные ошибки в форме Уайта, чтобы добиться лучшего качества модели. Снова обучили модель, однако R-квадрат остался тем же. Предложите объяснение этого явления. Приведите необходимые выкладки."
   ]
  },
  {
   "cell_type": "markdown",
   "metadata": {},
   "source": [
    "### Решение:"
   ]
  },
  {
   "cell_type": "markdown",
   "metadata": {},
   "source": []
  },
  {
   "cell_type": "markdown",
   "metadata": {},
   "source": [
    "### 4)Описание:"
   ]
  },
  {
   "cell_type": "markdown",
   "metadata": {},
   "source": [
    "С помощью некоторого датчика мы наблюдаем за температурой в холодильном отделении. Система должна поддерживать околонулевое значение. При поступлении нового измерения с датчика мы должны отдавать в stdout значение стандартного отклонения, рассчитанного по всей истории наблюдений.\n",
    "\n",
    "```\n",
    "stream = Stream(port=port, host=host)\n",
    "while  stream.has_next():\n",
    "    value = stream.next_value()\n",
    "    # std calculation TBD\n",
    "    print(std_value)\n",
    "```\n",
    "    \n",
    "stream – это поток измерений с датчика, у него есть два метода:\n",
    "\n",
    "• has_next() — проверяет, есть ли следующее значение, возвращает bool,\n",
    "\n",
    "• next_value() — возвращает поступившее измерение, float.\n",
    "\n",
    "Напишите код, вычисляющий стандартное отклонение при условии, что он должен работать на машине с оперативной памятью, не превышающей 100 МБ (из которых больше половины уже занято Python’ом :))"
   ]
  },
  {
   "cell_type": "markdown",
   "metadata": {},
   "source": [
    "### Решение:\n",
    "\n",
    "Довольно тривиальная реализация, поскольку у нас во время вычислений нет необходимости хранить все значения, мы можем для каждого элемента считать как длину выборки так и среднее значение по выборке, на основании предыдущих значений. Для удобства тестирования я создал класс Stream по предложенному вами тз."
   ]
  },
  {
   "cell_type": "code",
   "execution_count": 38,
   "metadata": {},
   "outputs": [],
   "source": [
    "from numpy.random import rand\n",
    "\n",
    "class Stream:\n",
    "    def __init__(self, port, host):\n",
    "        self.port = port\n",
    "        self.host = host\n",
    "        self.numbers = rand((10))\n",
    "        self.current_index = 0\n",
    "        \n",
    "    def has_next(self):\n",
    "        if self.current_index < len(self.numbers):\n",
    "            return True\n",
    "        else:\n",
    "            return False\n",
    "    \n",
    "    def next_value(self):\n",
    "        cur_value = self.numbers[self.current_index]\n",
    "        self.current_index += 1\n",
    "        return cur_value"
   ]
  },
  {
   "cell_type": "code",
   "execution_count": 44,
   "metadata": {},
   "outputs": [
    {
     "name": "stdout",
     "output_type": "stream",
     "text": [
      "0.0\n",
      "0.04521496116868177\n",
      "0.253751585083922\n",
      "0.14410228413408355\n",
      "0.05344737609175367\n",
      "0.0392246488500048\n",
      "0.13545103973846465\n",
      "0.10836872552183358\n",
      "0.13593280047884157\n",
      "0.09523180501127582\n"
     ]
    }
   ],
   "source": [
    "stream = Stream(port = \"Vozmite na stazhku\", host = \"plez\")\n",
    "\n",
    "sum_of_values = 0\n",
    "current_median_value = 0\n",
    "number_of_values = 0\n",
    "\n",
    "while  stream.has_next():\n",
    "    \n",
    "    value = stream.next_value()\n",
    "    sum_of_values += value\n",
    "    number_of_values += 1\n",
    "    current_median_value = sum_of_values / number_of_values\n",
    "    std_value = sqrt((value - current_median_value)**2\n",
    "                     / number_of_values)\n",
    "    \n",
    "    print(std_value)"
   ]
  },
  {
   "cell_type": "markdown",
   "metadata": {},
   "source": [
    "# B_Task"
   ]
  },
  {
   "cell_type": "markdown",
   "metadata": {},
   "source": [
    "### Описание:\n",
    "\n",
    "Создан класс Task, который может выполнять некие расчёты (задачи). Статистику по выполненным расчётам собирает класс Counter. Задачи выполняются в файле main.py в несколько потоков. Но в этом коде есть баг, поэтому расчёты выполняются неверно. Сделайте ревью кода и найдите все баги, чтобы расчеты были корректными, а код понятным и стилистически правильным.\n",
    "\n",
    "```\n",
    "# main.py\n",
    "from concurrent.futures import ThreadPoolExecutor\n",
    "from counter import Counter\n",
    "from task import Task\n",
    "new_counter = Counter()\n",
    "values = [2]*10\n",
    "tasks = []\n",
    "for value in values:\n",
    "    tasks.append(Task(value))\n",
    "with ThreadPoolExecutor(max_workers=2) as executor:\n",
    "    for task in tasks:\n",
    "        executor.submit(new_counter.update, task.execute())\n",
    "print(new_counter.value)\n",
    "# task.py\n",
    "import time\n",
    "class Task:\n",
    "    def __init__(self, value):\n",
    "        self.status = 'ready'\n",
    "        self.value = value\n",
    "    def execute(self):\n",
    "        new_value = self.value**2\n",
    "        self.value = new_value\n",
    "        return self.value\n",
    "# counter.py\n",
    "import time\n",
    "class Counter:\n",
    "    def __init__(self):\n",
    "        self.value = 0\n",
    "    def update(self, new_value):\n",
    "        local = self.value\n",
    "        local += new_value\n",
    "        time.sleep(0.1)\n",
    "        self.value = local\n",
    "```"
   ]
  },
  {
   "cell_type": "markdown",
   "metadata": {},
   "source": [
    "### Решение:\n",
    "\n",
    "\n",
    "Насколько я понимаю, у этой задачи нет какого-то конкретного и явно верного решения. Скорее это задача на то, чтоб оформить правильно код и сделать его более читабильным. Поэтому я слегка исправил классы, убрал странные и лишние действия и также придумал какую хотя бы более менее логически верную задачу этот код мог бы исполнять. Что было изменено:\n",
    "\n",
    "1)Разбил все 3 файла на 3 отдельные ячейки, для более удобной работы с кодом в дальнейшем. Также это логически верно со стороны архитектуры, так как мы эмилируем некую разработку абстрактной программы, где сущности наших задач разбиты на классы.\n",
    "\n",
    "2)Добавил разбиения между методами классов.\n",
    "\n",
    "3)Я не очень понял почему в коде значения поля value у класса Task во время вызова метода update выносилось в некоторую переменную локал, а потом только к ней добавлялось значение new_value, а после все это перезаписывалось обратно в поле класса. Имхо было бы проше сразу к полю этого класса добавлять это значение, без лишних танцев с бубном и переменной local\n",
    "\n",
    "4)В классе execute тоже довольно кринжовая реализация, ибо метод execute одновременно и возводит поле в квадрат и возвращает его на вывод, в моем понимании это должно работать следующим образом: метод execute возводит поле в квадрат, а новый метод get_value возвращает значение переменной value. Все же все мы здесь немножечко программисты и хотим чтобы методы класса делали одно определенное действие.\n",
    "\n",
    "\n",
    "5)В файле мейн довольно странно отдельно создавать массив tasks и заполнять его с помощью отдельно цикла, по - моему мнению в такой тривиальной ситуации можно воспользоваться генератором списка и не разбивать код на 3 отдельные строки вместо одной.\n",
    "\n",
    "6)Также довольно странно что мы явно получаем доступ к полю класса Counter, по - моему мнению лучше завести для этого отдельный геттер.\n"
   ]
  },
  {
   "cell_type": "code",
   "execution_count": 25,
   "metadata": {},
   "outputs": [],
   "source": [
    "# task.py\n",
    "import time\n",
    "\n",
    "## расчеты\n",
    "class Task:\n",
    "    def __init__(self, value):\n",
    "        self.status = 'ready'\n",
    "        self.value = value\n",
    "        \n",
    "        \n",
    "    def execute(self):\n",
    "        self.value **= 2\n",
    "        \n",
    "    def get_value(self):\n",
    "        return self.value"
   ]
  },
  {
   "cell_type": "code",
   "execution_count": 26,
   "metadata": {},
   "outputs": [],
   "source": [
    "# counter.py\n",
    "import time\n",
    "\n",
    "# статистика\n",
    "class Counter:\n",
    "    \n",
    "    def __init__(self):\n",
    "        self.value = 0\n",
    "        \n",
    "    def update(self, new_value):\n",
    "        time.sleep(0.1)\n",
    "        self.value += new_value\n",
    "        \n",
    "    def get_value(self):\n",
    "        return self.value"
   ]
  },
  {
   "cell_type": "code",
   "execution_count": 27,
   "metadata": {},
   "outputs": [
    {
     "name": "stdout",
     "output_type": "stream",
     "text": [
      "4\n",
      "8\n",
      "12\n",
      "16\n",
      "20\n",
      "24\n",
      "28\n",
      "32\n",
      "36\n",
      "40\n"
     ]
    }
   ],
   "source": [
    "# main.py\n",
    "from concurrent.futures import ThreadPoolExecutor\n",
    "# from counter import Counter\n",
    "# from task import Task\n",
    "\n",
    "\n",
    "new_counter = Counter()\n",
    "values = [2] * 10\n",
    "tasks = [Task(value) for value in values]\n",
    "\n",
    "    \n",
    "with ThreadPoolExecutor(max_workers = 2) as executor:\n",
    "    for task in tasks:\n",
    "        executor.submit(task.execute())\n",
    "        executor.submit(new_counter.update(task.get_value()))\n",
    "        print(new_counter.get_value())"
   ]
  },
  {
   "cell_type": "code",
   "execution_count": null,
   "metadata": {},
   "outputs": [],
   "source": []
  }
 ],
 "metadata": {
  "julynter-results": {
   "filteredId": [],
   "filteredIndividual": [],
   "filteredRestart": [],
   "filteredType": [],
   "hash": "fa946a2bac4f6aa0e0ce6858aeea79c7d2a93ece",
   "visible": [
    {
     "cellId": "group",
     "hash": "c0de46ba034d710c2b2406a37ee6816be9634aa0",
     "reason": "This groups other lint messages",
     "reportId": "group",
     "reportType": "hiddenstate",
     "suggestion": null,
     "text": "Hidden State"
    },
    {
     "cellId": 4,
     "hash": "c26e4fa660eb3db782a4a67f878394252b4f47ee",
     "reason": "A cell with code changes may produce different results than what it generated before the changes, hampering the reproducibility.",
     "reportId": "h2",
     "reportType": "hiddenstate",
     "suggestion": "Please consider re-executing it to guarantee the reproducibility.",
     "text": "Cell 4 has changed since its execution, but it wasn't executed after the changes"
    },
    {
     "cellId": 14,
     "hash": "1ad80b2e4f5853729513bab0b6230cc7f08457be",
     "reason": "A cell with results of a previous session may fail to execute or produce different results in this one, hampering the reproducibility.",
     "reportId": "h1",
     "reportType": "hiddenstate",
     "suggestion": "Please consider executing it to guarantee the reproducibility.",
     "text": "Cell 14 has execution results, but it wasn't executed on this session"
    },
    {
     "cellId": 15,
     "hash": "fd32429f50f26d70e596525797a9c3926b11689d",
     "reason": "A cell with results of a previous session may fail to execute or produce different results in this one, hampering the reproducibility.",
     "reportId": "h1",
     "reportType": "hiddenstate",
     "suggestion": "Please consider executing it to guarantee the reproducibility.",
     "text": "Cell 15 has execution results, but it wasn't executed on this session"
    },
    {
     "cellId": 4,
     "hash": "18089eddf3b8b31b4f09087dede462219626f5d7",
     "reason": "A skip in the execution count might indicate the presence of a hidden state caused by a cell that does not exist anymore. Hidden states might prevent cells from executing or producing the same results, hampering the reproducibility.",
     "reportId": "h4",
     "reportType": "hiddenstate",
     "suggestion": "Please consider re-running the notebook to guarantee the reproducibility.",
     "text": "Cell 4 skips the execution count"
    },
    {
     "cellId": 4,
     "hash": "71387a026f3bea0bd5a5b3e54faec1d96462e2d9",
     "reason": "The cell that created the name was removed or edited, indicating a hidden state. Using a variable from a cell that does not exist anymore prevents the reproducibility of the notebook.",
     "reportId": "h5",
     "reportType": "hiddenstate",
     "suggestion": "Please consider restoring the cell and re-running the notebook to guarantee the reproducibility.",
     "text": "Cell 4 uses name 'executor' that was defined on In[7], but it does not exist anymore"
    },
    {
     "cellId": 19,
     "hash": "83eafa739e2c6136278cafcc324a1a3be8f91a57",
     "reason": "A skip in the execution count might indicate the presence of a hidden state caused by a cell that does not exist anymore. Hidden states might prevent cells from executing or producing the same results, hampering the reproducibility.",
     "reportId": "h4",
     "reportType": "hiddenstate",
     "suggestion": "Please consider re-running the notebook to guarantee the reproducibility.",
     "text": "Cell 19 skips the execution count"
    },
    {
     "cellId": 14,
     "hash": "893e51e648f3178af97cde51571925d18b3d24a0",
     "reason": "A skip in the execution count might indicate the presence of a hidden state caused by a cell that does not exist anymore. Hidden states might prevent cells from executing or producing the same results, hampering the reproducibility.",
     "reportId": "h4",
     "reportType": "hiddenstate",
     "suggestion": "Please consider re-running the notebook to guarantee the reproducibility.",
     "text": "Cell 14 skips the execution count"
    },
    {
     "cellId": 15,
     "hash": "6da2b26df4b6516a136db72767595829be3f62a1",
     "reason": "A skip in the execution count might indicate the presence of a hidden state caused by a cell that does not exist anymore. Hidden states might prevent cells from executing or producing the same results, hampering the reproducibility.",
     "reportId": "h4",
     "reportType": "hiddenstate",
     "suggestion": "Please consider re-running the notebook to guarantee the reproducibility.",
     "text": "Cell 15 skips the execution count"
    },
    {
     "cellId": "group",
     "hash": "19d3d3d153f22e318cbe061df9e685ba5165b0aa",
     "reason": "This groups other lint messages",
     "reportId": "group",
     "reportType": "confusenotebook",
     "suggestion": null,
     "text": "Confuse Notebook"
    },
    {
     "cellId": 10,
     "hash": "d5ab09f0d2060007cfc57f50d3e0df98bd20ce7f",
     "reason": "Empty cells in between executable ones occupy space and might impact the readability of the notebook.",
     "reportId": "c3",
     "reportType": "confusenotebook",
     "suggestion": "Please consider removing it to improve the readability.",
     "text": "Cell 10 is empty in the middle of the notebook"
    },
    {
     "cellId": 19,
     "hash": "f0a3e6bd51f1102ed4e61534662197223c9ecc85",
     "reason": "When you try to run all cells following the top-down order, cells in the wrong order might fail to execute or produce different results, hampering the reproducibility.",
     "reportId": "c2",
     "reportType": "confusenotebook",
     "suggestion": "Please consider re-running the notebook to guarantee the reproducibility.",
     "text": "Cell 19 has the execution count 25 in the wrong order"
    },
    {
     "cellId": 21,
     "hash": "006a4ce405af23fbeb0c776f354c24392b1255c2",
     "reason": "A markdown cell at the end of the notebook can conclude it, presenting a summary of the obtained results.",
     "reportId": "c5",
     "reportType": "confusenotebook",
     "suggestion": "Please consider adding a markdown cell to conclude the notebook.",
     "text": "The last cell of the notebook is not a markdown cell"
    },
    {
     "cellId": "group",
     "hash": "d6fbc9d2bdd580e18ed0bc5805dc26db323d6f5f",
     "reason": "This groups other lint messages",
     "reportId": "group",
     "reportType": "import",
     "suggestion": null,
     "text": "Import"
    },
    {
     "cellId": 19,
     "hash": "3d84cba0047209e3daa1674ad2e6a7427199dd0d",
     "reason": "Imports at the beginning of the notebook allow for a quick failure in the case of a non-installed dependency. It prevents users from stopping their executions for installing dependencies. Additionally, imports in the middle might reduce notebooks' readability by taking the attention from the logic to the import constructs.",
     "reportId": "i1",
     "reportType": "import",
     "suggestion": "Please consider moving the import to the first cell of the notebook.",
     "text": "Cell 19 has imports but it is not the first cell"
    },
    {
     "cellId": 20,
     "hash": "fdcec6c05c5e5eca742e371d714ee30dac36a51e",
     "reason": "Imports at the beginning of the notebook allow for a quick failure in the case of a non-installed dependency. It prevents users from stopping their executions for installing dependencies. Additionally, imports in the middle might reduce notebooks' readability by taking the attention from the logic to the import constructs.",
     "reportId": "i1",
     "reportType": "import",
     "suggestion": "Please consider moving the import to the first cell of the notebook.",
     "text": "Cell 20 has imports but it is not the first cell"
    },
    {
     "cellId": 21,
     "hash": "d58f47e591aff63f5b58c4e81f12fa50b9a36424",
     "reason": "Imports at the beginning of the notebook allow for a quick failure in the case of a non-installed dependency. It prevents users from stopping their executions for installing dependencies. Additionally, imports in the middle might reduce notebooks' readability by taking the attention from the logic to the import constructs.",
     "reportId": "i1",
     "reportType": "import",
     "suggestion": "Please consider moving the import to the first cell of the notebook.",
     "text": "Cell 21 has imports but it is not the first cell"
    }
   ]
  },
  "kernelspec": {
   "display_name": "Python 3",
   "language": "python",
   "name": "python3"
  },
  "language_info": {
   "codemirror_mode": {
    "name": "ipython",
    "version": 3
   },
   "file_extension": ".py",
   "mimetype": "text/x-python",
   "name": "python",
   "nbconvert_exporter": "python",
   "pygments_lexer": "ipython3",
   "version": "3.6.3"
  }
 },
 "nbformat": 4,
 "nbformat_minor": 4
}
