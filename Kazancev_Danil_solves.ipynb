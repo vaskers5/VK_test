{
 "cells": [
  {
   "cell_type": "markdown",
   "metadata": {},
   "source": [
    "# A_Task"
   ]
  },
  {
   "cell_type": "markdown",
   "metadata": {},
   "source": [
    "### 1)Definiton:"
   ]
  },
  {
   "cell_type": "markdown",
   "metadata": {},
   "source": [
    "Есть 100 значений некоторой абстрактной переменной, по которым была обучена модель. Затем была посчитана среднеквадратическая ошибка (MSE). Для 80 случаев разница истинного и предсказанного значения составляет 0,5, а для остальных 20 случаев равняется -0,3. Вы знаете, что модель была обучена неверно. Если добавить к ответам модели некоторую константу C, то результат улучшится. Существует ли такая константа? Если да, найдите её."
   ]
  },
  {
   "cell_type": "code",
   "execution_count": 3,
   "metadata": {},
   "outputs": [
    {
     "name": "stdout",
     "output_type": "stream",
     "text": [
      "mse_score without variable: 0.21639999999999998 \n",
      "\n",
      "mse_score with varuable: \n",
      " variable: 0.6130000000000013 \n",
      " score: 0.9992010000000044\n"
     ]
    },
    {
     "data": {
      "text/plain": [
       "[<matplotlib.lines.Line2D at 0x24870e23b00>]"
      ]
     },
     "execution_count": 3,
     "metadata": {},
     "output_type": "execute_result"
    },
    {
     "data": {
      "image/png": "[encoded data removed]",
      "text/plain": [
       "<Figure size 432x288 with 1 Axes>"
      ]
     },
     "metadata": {
      "needs_background": "light"
     },
     "output_type": "display_data"
    }
   ],
   "source": [
    "import matplotlib.pyplot as plt\n",
    "\n",
    "class Iterator:\n",
    "    def __init__(self, step):\n",
    "        self.start = -1\n",
    "        self.end = 1\n",
    "        self.num = self.start\n",
    "        self.step = step\n",
    "        \n",
    "    def __iter__(self):\n",
    "        return self\n",
    "    \n",
    "    def __next__(self):\n",
    "        if self.num < self.end:\n",
    "            num = self.num\n",
    "            self.num += self.step\n",
    "            return num\n",
    "\n",
    "def mse_variable_score(variable):\n",
    "    new_preds = [(variable + elem)**2 for elem in preds]\n",
    "    return sum(new_preds) / len(new_preds)\n",
    "\n",
    "\n",
    "\n",
    "condition = lambda index: 0.5 if index < 79 else -0.3\n",
    "preds = list(map(condition, range(100)))\n",
    "\n",
    "answers = []\n",
    "variables = []\n",
    "for i in Iterator(0.001):\n",
    "    if i != None:\n",
    "        score = mse_variable_score(i)\n",
    "        if score <= 1:\n",
    "            answers.append(mse_variable_score(i))\n",
    "            variables.append(i)\n",
    "    else:\n",
    "        break\n",
    "\n",
    "max_elem = 0\n",
    "max_score = float(\"-inf\")\n",
    "\n",
    "for index, score in enumerate(answers):\n",
    "    if score > max_score:\n",
    "        max_elem = variables[index]\n",
    "        max_score = score\n",
    "        \n",
    "print(\"mse_score without variable:\", mse_variable_score(0),\"\\n\")\n",
    "print(\"mse_score with varuable:\", \"\\n\", \"variable:\", max_elem, \"\\n\", \"score:\", max_score)\n",
    "plt.xlabel('variable')\n",
    "plt.ylabel('mse_score')\n",
    "plt.plot(variables, answers)"
   ]
  },
  {
   "cell_type": "code",
   "execution_count": null,
   "metadata": {},
   "outputs": [],
   "source": []
  }
 ],
 "metadata": {
  "julynter-results": {
   "filteredId": [],
   "filteredIndividual": [],
   "filteredRestart": [],
   "filteredType": [],
   "hash": "076533049a62a9bae0f6881c8c943488ad91dce2",
   "visible": [
    {
     "cellId": "group",
     "hash": "c0de46ba034d710c2b2406a37ee6816be9634aa0",
     "reason": "This groups other lint messages",
     "reportId": "group",
     "reportType": "hiddenstate",
     "suggestion": null,
     "text": "Hidden State"
    },
    {
     "cellId": 3,
     "hash": "1688a60401d6f7974c0695cdf5832840356aaea9",
     "reason": "A skip in the execution count might indicate the presence of a hidden state caused by a cell that does not exist anymore. Hidden states might prevent cells from executing or producing the same results, hampering the reproducibility.",
     "reportId": "h4",
     "reportType": "hiddenstate",
     "suggestion": "Please consider re-running the notebook to guarantee the reproducibility.",
     "text": "Cell 3 skips the execution count"
    },
    {
     "cellId": "group",
     "hash": "19d3d3d153f22e318cbe061df9e685ba5165b0aa",
     "reason": "This groups other lint messages",
     "reportId": "group",
     "reportType": "confusenotebook",
     "suggestion": null,
     "text": "Confuse Notebook"
    },
    {
     "cellId": 3,
     "hash": "ad05dc7ba2a600411b35fc6001d7097e3cad3d11",
     "reason": "A markdown cell at the end of the notebook can conclude it, presenting a summary of the obtained results.",
     "reportId": "c5",
     "reportType": "confusenotebook",
     "suggestion": "Please consider adding a markdown cell to conclude the notebook.",
     "text": "The last cell of the notebook is not a markdown cell"
    }
   ]
  },
  "kernelspec": {
   "display_name": "Python 3",
   "language": "python",
   "name": "python3"
  },
  "language_info": {
   "codemirror_mode": {
    "name": "ipython",
    "version": 3
   },
   "file_extension": ".py",
   "mimetype": "text/x-python",
   "name": "python",
   "nbconvert_exporter": "python",
   "pygments_lexer": "ipython3",
   "version": "3.6.3"
  }
 },
 "nbformat": 4,
 "nbformat_minor": 4
}
