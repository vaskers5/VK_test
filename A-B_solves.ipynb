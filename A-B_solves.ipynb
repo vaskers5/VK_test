{
 "cells": [
  {
   "cell_type": "markdown",
   "metadata": {},
   "source": [
    "# A_Task"
   ]
  },
  {
   "cell_type": "markdown",
   "metadata": {},
   "source": [
    "### 1)Описание:"
   ]
  },
  {
   "cell_type": "markdown",
   "metadata": {},
   "source": [
    "Есть 100 значений некоторой абстрактной переменной, по которым была обучена модель. Затем была посчитана среднеквадратическая ошибка (MSE). Для 80 случаев разница истинного и предсказанного значения составляет 0,5, а для остальных 20 случаев равняется -0,3. Вы знаете, что модель была обучена неверно. Если добавить к ответам модели некоторую константу C, то результат улучшится. Существует ли такая константа? Если да, найдите её.\n",
    "\n",
    "Небольшое замечание: Условия можно понять неодназначно, вы явно указываете что посчитали MSE на всех данных, но указание об отрицательном выходе могут спутать слегка. Я понимаю что MSE не может выдавать отрицательных значений, но кто-то из участнников мог запутаться. Как я понял вашу задачу:\n",
    "\n",
    "У нас есть некий датасет, и нам сказано что разница выхода из нашей сети и лейбла для первых 80 составляет 0.5, а для остальных 20 0.3. Сам первичный MSE нам не дан и нас просят найти константу, которую мы можем подставить в формулу mse, а конкретнее, в сумму перед возведением в квадрат, причем такую константу, которая улучшит mse_score"
   ]
  },
  {
   "cell_type": "markdown",
   "metadata": {},
   "source": [
    "### Решение:\n",
    "\n",
    "Ответ: Да, существует и ее примерное значение будет равно: -0.332 \n",
    "\n",
    "В качестве доказательства ответа я написал код, который подбирает константу для заданных значений.\n",
    "В этом коде я считаю mse_score для различных значений переменной C:"
   ]
  },
  {
   "cell_type": "code",
   "execution_count": 1,
   "metadata": {},
   "outputs": [
    {
     "name": "stdout",
     "output_type": "stream",
     "text": [
      "mse_score without variable: 0.21639999999999998 \n",
      "\n",
      "mse_score with varuable: \n",
      " variable: -0.3319999999999994 \n",
      " score: 0.10617600000000003 \n",
      "\n"
     ]
    },
    {
     "data": {
      "image/png": "[encoded data removed]",
      "text/plain": [
       "<Figure size 432x288 with 1 Axes>"
      ]
     },
     "metadata": {
      "needs_background": "light"
     },
     "output_type": "display_data"
    }
   ],
   "source": [
    "import matplotlib.pyplot as plt\n",
    "\n",
    "class Iterator:\n",
    "    def __init__(self, step):\n",
    "        self.start = -1\n",
    "        self.end = 1\n",
    "        self.num = self.start\n",
    "        self.step = step\n",
    "        \n",
    "    def __iter__(self):\n",
    "        return self\n",
    "    \n",
    "    def __next__(self):\n",
    "        if self.num < self.end:\n",
    "            num = self.num\n",
    "            self.num += self.step\n",
    "            return num\n",
    "\n",
    "def mse_variable_score(variable):\n",
    "    new_preds = [(variable + elem)**2 for elem in preds]\n",
    "    return sum(new_preds) / len(new_preds)\n",
    "\n",
    "\n",
    "\n",
    "condition = lambda index: 0.5 if index < 79 else -0.3\n",
    "preds = list(map(condition, range(100)))\n",
    "\n",
    "answers = []\n",
    "variables = []\n",
    "for i in Iterator(0.001):\n",
    "    if i != None:\n",
    "        score = mse_variable_score(i)\n",
    "        if score <= 1:\n",
    "            answers.append(mse_variable_score(i))\n",
    "            variables.append(i)\n",
    "    else:\n",
    "        break\n",
    "\n",
    "max_elem = 0\n",
    "max_score = float(\"inf\")\n",
    "\n",
    "for index, score in enumerate(answers):\n",
    "    if score < max_score:\n",
    "        max_elem = variables[index]\n",
    "        max_score = score\n",
    "        \n",
    "print(\"mse_score without variable:\", mse_variable_score(0),\"\\n\")\n",
    "print(\"mse_score with varuable:\", \"\\n\", \"variable:\", max_elem,\n",
    "      \"\\n\", \"score:\", max_score, \"\\n\")\n",
    "plt.xlabel('variable')\n",
    "plt.ylabel('score')\n",
    "plt.title(\"MSE_Score\")\n",
    "plt.plot(variables, answers)\n",
    "plt.show()"
   ]
  },
  {
   "cell_type": "markdown",
   "metadata": {},
   "source": [
    "### 2)Описание:"
   ]
  },
  {
   "cell_type": "markdown",
   "metadata": {},
   "source": [
    "Существует некий временной ряд, область допустимых значений которого [0; +∞). Допустим, это количество шагов. Предположим, вы используете два алгоритма машинного обучения для построения модели, предсказывающей количество шагов в определённый день, — градиентный бустинг и случайный лес. Какой из данных алгоритмов может возвращать отрицательные значения в качестве прогнозируемых и почему?"
   ]
  },
  {
   "cell_type": "markdown",
   "metadata": {},
   "source": [
    "### Решение:\n",
    "\n",
    "Ответ: Градиентный бустинг. Дальше я постараюсь объяснить почему:\n",
    "\n",
    "\n",
    "1)Для начала дам краткий ответ почему это не может быть Random Forest: Поскольку особенностью этой модели является усреднение прогнозов всех деревьев, следовательно проблемой нашей модели является скорее то, что мы можем не отследить тенденцию в данных. Так как мы усредняем значения всех выходов, мы явно не можем получить что-то на подобии отрицательных значений на датасете, состоящем из положительных чисел.\n",
    "\n",
    "Постараюсь предомонстрировать это на примере:\n",
    "\n",
    "![](https://i.ibb.co/2ysJ0yL/Random-Forest-Diamonds.png)\n",
    "\n",
    "На примере показано распределение цен на алмазы. А синия линия это выходы из модели классического RandomForestRegressor, невооруженным глазом видно, что модель обобщает данные, а конкретнее, модель не регистрирует выброс выделенный красным цветом. Ниже приведу пример работы обычной линейной регрессии:\n",
    "\n",
    "![](https://i.ibb.co/hCnTL6Z/Linear-Regression-Diamonds.png)\n",
    "\n",
    "Как мы можем заметить, обычная линейная регрессия регестрирует этот выброс. Возможные способы решения подобной проблемы:\n",
    "\n",
    "* Использовать  линейную модель, например Логистическую регрессию.\n",
    "\n",
    "* Использовать глубокие модели, зачастую глубокая модель с правильной архитектурой будет лучшим решением в подобных ситуациях.\n",
    "\n",
    "* Использовать модификацию Random Forest - RERFs.\n",
    "\n",
    "2)Так как Gradient Boosting последовательно подгоняет деревья регрессии к остаткам предыдущего этапа обучения, можно заметить следующее: Если дерево на текущем этапе предсказывает значение, превышающее истинное значение конкретного обучающего примера, остаток на этом этапе для этого примера будет отрицательным, и поэтому дерево регрессии на следующем этапе  столкнется с отрицательными целевыми значениями. Поскольку модель складывает все эти деревья, чтобы сделать окончательный прогноз может возникнуть ситуациия, когда сумма отрицательных остатков превысит положительные выходы и мы получим отрицательный прогноз модели. Подобное часто происходит при увеличении количества решающих деревьев. Подобное поведение вполне нормально для нашей модели, в таких ситуациях не стоит волноваться, лучше подождать окончания обучения модели и сделать выводы уже после."
   ]
  },
  {
   "cell_type": "markdown",
   "metadata": {},
   "source": [
    "### 3)Описание:\n",
    "\n",
    "Предположим, мы обучили линейную модель. Анализируя остатки модели, мы обнаружили значительную гетероскедастичность. Ваш коллега предложил использовать стандартные ошибки в форме Уайта, чтобы добиться лучшего качества модели. Снова обучили модель, однако R-квадрат остался тем же. Предложите объяснение этого явления. Приведите необходимые выкладки."
   ]
  },
  {
   "cell_type": "markdown",
   "metadata": {},
   "source": [
    "### Решение:"
   ]
  },
  {
   "cell_type": "markdown",
   "metadata": {},
   "source": [
    "Я нашел решение описание этой проблемы на [англо-вики](https://en.wikipedia.org/wiki/Heteroscedasticity-consistent_standard_errors#Problem). Но моей совести не хватило на то, чтоб просто переписать приведенное там доказательство, а написать своими словами у меня не вышло, тк я не смог достаточно разобраться в статье. Было бы классно обсудить с вами эту задачу на собеседовании, хочу все же вникнуть в происходящее)"
   ]
  },
  {
   "cell_type": "markdown",
   "metadata": {},
   "source": [
    "### 4)Описание:"
   ]
  },
  {
   "cell_type": "markdown",
   "metadata": {},
   "source": [
    "С помощью некоторого датчика мы наблюдаем за температурой в холодильном отделении. Система должна поддерживать околонулевое значение. При поступлении нового измерения с датчика мы должны отдавать в stdout значение стандартного отклонения, рассчитанного по всей истории наблюдений.\n",
    "\n",
    "```\n",
    "stream = Stream(port=port, host=host)\n",
    "while  stream.has_next():\n",
    "    value = stream.next_value()\n",
    "    # std calculation TBD\n",
    "    print(std_value)\n",
    "```\n",
    "    \n",
    "stream – это поток измерений с датчика, у него есть два метода:\n",
    "\n",
    "• has_next() — проверяет, есть ли следующее значение, возвращает bool,\n",
    "\n",
    "• next_value() — возвращает поступившее измерение, float.\n",
    "\n",
    "Напишите код, вычисляющий стандартное отклонение при условии, что он должен работать на машине с оперативной памятью, не превышающей 100 МБ (из которых больше половины уже занято Python’ом :))"
   ]
  },
  {
   "cell_type": "markdown",
   "metadata": {},
   "source": [
    "### Решение:\n",
    "\n",
    "Поскольку у нас во время вычислений нет необходимости хранить все значения. Мы можем просто посчитать сумму всех значений и их квадратов, также количество значений, после чего воспользуемся формулой: $\\sum(x^2) − n * ({\\bar{x}})^2$. Для тестирования я создал class Stream и сделал проверку с помощью встроенной функции в numpy. В вычислениях в python есть небольшая погрешность, поэтому полученное значение может незначительно отличаться от настоящего(погрешность начинается с 19-го разряда после запятой."
   ]
  },
  {
   "cell_type": "code",
   "execution_count": 24,
   "metadata": {},
   "outputs": [],
   "source": [
    "from numpy.random import rand\n",
    "\n",
    "class Stream:\n",
    "    def __init__(self, port, host):\n",
    "        self.port = port\n",
    "        self.host = host\n",
    "        self.numbers = rand((100))\n",
    "        self.current_index = 0\n",
    "        \n",
    "    def has_next(self):\n",
    "        if self.current_index < len(self.numbers):\n",
    "            return True\n",
    "        else:\n",
    "            return False\n",
    "    \n",
    "    def next_value(self):\n",
    "        cur_value = self.numbers[self.current_index]\n",
    "        self.current_index += 1\n",
    "        return cur_value"
   ]
  },
  {
   "cell_type": "code",
   "execution_count": 25,
   "metadata": {},
   "outputs": [
    {
     "name": "stdout",
     "output_type": "stream",
     "text": [
      "0.2925751832045944\n"
     ]
    }
   ],
   "source": [
    "from math import sqrt\n",
    "stream = Stream(port = \"Vozmite na stazhku\", host = \"plez\")\n",
    "\n",
    "sum_of_values = 0\n",
    "sum_of_squares = 0\n",
    "number_of_values = 0\n",
    "\n",
    "while  stream.has_next():\n",
    "    \n",
    "    value = stream.next_value()\n",
    "    number_of_values += 1\n",
    "    sum_of_values += value \n",
    "    sum_of_squares += value**2 \n",
    "    \n",
    "x_ = (sum_of_values / number_of_values)**2\n",
    "print(sqrt((sum_of_squares - number_of_values * x_) /100))\n"
   ]
  },
  {
   "cell_type": "code",
   "execution_count": 26,
   "metadata": {},
   "outputs": [
    {
     "name": "stdout",
     "output_type": "stream",
     "text": [
      "\n",
      " 0.2925751832045948\n"
     ]
    }
   ],
   "source": [
    "import numpy as np\n",
    "\n",
    "print(\"\\n\", np.std(stream.numbers))"
   ]
  },
  {
   "cell_type": "markdown",
   "metadata": {},
   "source": [
    "### 5) Описание:\n",
    "\n",
    "Некоторая система выполняет задачи и записывает результат выполнения в таблицу следующего вида:\n",
    "![](https://sun9-40.userapi.com/impg/XddTgmpXt22HkRNgq7WmXwSjFYfE0c7HQxG_CA/lBi440ZcUkc.jpg?size=807x324&quality=96&sign=0909ea3b8e7967dbcab84af4c7120f5c&type=album)\n",
    "\n",
    "\n",
    "Если задача не была выполнена (упала), то соответствующий ей task_id не записывается в таблицу, а увеличивается на число, равное количеству изначально запланированных задач. После этого система снова пытается выполнить задачу и записать результат в таблицу. Количество попыток ограничено. Если в итоге задача не будет выполнена, то весь процесс выполнения задач приостанавливается.\n",
    "\n",
    "Предположим, мы запланировали запись 100 задач. Если в процессе работы задача № 67 упадет (task_id = 67), то запись не произойдёт, а её номер увеличится на 100. Затем задача перезапустится с новым номером — 167. Если же и она упадёт, то произойдёт ещё одно увеличение переменной task_id на 100, и т. д.\n",
    "\n",
    "Ваша задача состоит в том, чтобы написать SQL-запрос к таблице выше, который вернёт изначальные task_id всех задач, что не смогли завершиться с первой попытки."
   ]
  },
  {
   "cell_type": "markdown",
   "metadata": {},
   "source": [
    "### Решение:\n",
    "\n",
    "Прежде чем писать запрос я решил для начала написать псевдокод(он работает, хоть и не является полноценной дб) того, как могла бы работать система из тз:"
   ]
  },
  {
   "cell_type": "code",
   "execution_count": 38,
   "metadata": {},
   "outputs": [],
   "source": [
    "from time import ctime\n",
    "\n",
    "class System:\n",
    "    \n",
    "    def __init__(self, number_of_task):\n",
    "        self.number_of_task = number_of_task\n",
    "        self.tasks = {}\n",
    "        self.failed_tasks = []\n",
    "        self.last_task = 0\n",
    "        \n",
    "    def update_new_task(self, task_id = 0):\n",
    "        if self.last_task == task_id - 1:\n",
    "            self.tasks.update({task_id : ctime()})\n",
    "            self.last_task = task_id\n",
    "        elif self.last_task == task_id - self.number_of_task:\n",
    "            self.tasks.update({task_id + self.number_of_task: ctime})\n",
    "            self.failed_tasks.append(task_id)\n",
    "            self.last_task = task_id\n",
    "        else:\n",
    "            raise NameError(\"Failed task\")\n",
    "    \n",
    "    def get_f_task(self):\n",
    "        return self.failed_tasks\n"
   ]
  },
  {
   "cell_type": "markdown",
   "metadata": {},
   "source": [
    "### Откровенно говоря, я довольно плохо знаю sql, наверное просто не было возможности его выучить) Надеюсь, что вы мне ее предоставите :) Ниже я вставил запрос, который по моему мнению должен быть ответом на эту задачу, в свою защиту скажу, что я изучал sqlite всего лишь 2 часа:"
   ]
  },
  {
   "cell_type": "markdown",
   "metadata": {},
   "source": [
    "```\n",
    "WITH \n",
    "\tid_count(id, amount) \n",
    "AS\n",
    "(\n",
    "\tSELECT\n",
    "  \t\ttask_id AS id,\n",
    "  \t\tCOUNT(*) as amount\n",
    "  \tFROM\n",
    "  \t\tVK\n",
    "  \tGROUP BY\n",
    "  \t\ttask_id % 100\n",
    ")\n",
    "\n",
    "SELECT\n",
    "\tid\n",
    "FROM\n",
    "\tid_count\n",
    "WHERE\n",
    "\tamount > 1\n",
    "``` "
   ]
  },
  {
   "cell_type": "markdown",
   "metadata": {},
   "source": [
    "# B_Task"
   ]
  },
  {
   "cell_type": "markdown",
   "metadata": {},
   "source": [
    "### Описание:\n",
    "\n",
    "Создан класс Task, который может выполнять некие расчёты (задачи). Статистику по выполненным расчётам собирает класс Counter. Задачи выполняются в файле main.py в несколько потоков. Но в этом коде есть баг, поэтому расчёты выполняются неверно. Сделайте ревью кода и найдите все баги, чтобы расчеты были корректными, а код понятным и стилистически правильным.\n",
    "\n",
    "```\n",
    "# main.py\n",
    "from concurrent.futures import ThreadPoolExecutor\n",
    "from counter import Counter\n",
    "from task import Task\n",
    "new_counter = Counter()\n",
    "values = [2]*10\n",
    "tasks = []\n",
    "for value in values:\n",
    "    tasks.append(Task(value))\n",
    "with ThreadPoolExecutor(max_workers=2) as executor:\n",
    "    for task in tasks:\n",
    "        executor.submit(new_counter.update, task.execute())\n",
    "print(new_counter.value)\n",
    "# task.py\n",
    "import time\n",
    "class Task:\n",
    "    def __init__(self, value):\n",
    "        self.status = 'ready'\n",
    "        self.value = value\n",
    "    def execute(self):\n",
    "        new_value = self.value**2\n",
    "        self.value = new_value\n",
    "        return self.value\n",
    "# counter.py\n",
    "import time\n",
    "class Counter:\n",
    "    def __init__(self):\n",
    "        self.value = 0\n",
    "    def update(self, new_value):\n",
    "        local = self.value\n",
    "        local += new_value\n",
    "        time.sleep(0.1)\n",
    "        self.value = local\n",
    "```"
   ]
  },
  {
   "cell_type": "markdown",
   "metadata": {},
   "source": [
    "### Решение:\n",
    "\n",
    "\n",
    "Насколько я понимаю, у этой задачи нет какого-то конкретного и явно верного решения. Скорее это задача на то, чтоб оформить правильно код и сделать его более читабильным. Поэтому я слегка исправил классы, убрал странные и лишние действия и также придумал какую хотя бы более менее логически верную задачу этот код мог бы исполнять. Что было изменено:\n",
    "\n",
    "1)Разбил все 3 файла на 3 отдельные ячейки, для более удобной работы с кодом в дальнейшем. Также это логически верно со стороны архитектуры, так как мы эмилируем некую разработку абстрактной программы, где сущности наших задач разбиты на классы.\n",
    "\n",
    "2)Добавил разбиения между методами классов.\n",
    "\n",
    "3)Я не очень понял почему в коде значения поля value у класса Task во время вызова метода update выносилось в некоторую переменную локал, а потом только к ней добавлялось значение new_value, а после все это перезаписывалось обратно в поле класса. Имхо было бы проше сразу к полю этого класса добавлять это значение, без лишних танцев с бубном и переменной local\n",
    "\n",
    "4)В классе execute тоже довольно кринжовая реализация, ибо метод execute одновременно и возводит поле в квадрат и возвращает его на вывод, в моем понимании это должно работать следующим образом: метод execute возводит поле в квадрат, а новый метод get_value возвращает значение переменной value. Все же все мы здесь немножечко программисты и хотим чтобы методы класса делали одно определенное действие.\n",
    "\n",
    "\n",
    "5)В файле main довольно странно отдельно создавать массив tasks и заполнять его с помощью отдельно цикла, по - моему мнению в такой тривиальной ситуации можно воспользоваться генератором списка и не разбивать код на 3 отдельные строки вместо одной.\n",
    "\n",
    "6)Также довольно странно что мы явно получаем доступ к полю класса Counter, по - моему мнению лучше завести для этого отдельный геттер.\n"
   ]
  },
  {
   "cell_type": "code",
   "execution_count": 5,
   "metadata": {},
   "outputs": [],
   "source": [
    "# task.py\n",
    "import time\n",
    "\n",
    "## расчеты\n",
    "class Task:\n",
    "    def __init__(self, value):\n",
    "        self.status = 'ready'\n",
    "        self.value = value\n",
    "        \n",
    "        \n",
    "    def execute(self):\n",
    "        self.value **= 2\n",
    "        \n",
    "    def get_value(self):\n",
    "        return self.value"
   ]
  },
  {
   "cell_type": "code",
   "execution_count": 6,
   "metadata": {},
   "outputs": [],
   "source": [
    "# counter.py\n",
    "import time\n",
    "\n",
    "# статистика\n",
    "class Counter:\n",
    "    \n",
    "    def __init__(self):\n",
    "        self.value = 0\n",
    "        \n",
    "    def update(self, new_value):\n",
    "        time.sleep(0.1)\n",
    "        self.value += new_value\n",
    "        \n",
    "    def get_value(self):\n",
    "        return self.value"
   ]
  },
  {
   "cell_type": "code",
   "execution_count": 7,
   "metadata": {},
   "outputs": [
    {
     "name": "stdout",
     "output_type": "stream",
     "text": [
      "4\n",
      "8\n",
      "12\n",
      "16\n",
      "20\n",
      "24\n",
      "28\n",
      "32\n",
      "36\n",
      "40\n",
      "\n",
      " 40\n"
     ]
    }
   ],
   "source": [
    "# main.py\n",
    "from concurrent.futures import ThreadPoolExecutor\n",
    "# from counter import Counter\n",
    "# from task import Task\n",
    "\n",
    "\n",
    "new_counter = Counter()\n",
    "values = [2] * 10\n",
    "tasks = [Task(value) for value in values]\n",
    "\n",
    "    \n",
    "with ThreadPoolExecutor(max_workers = 2) as executor:\n",
    "    for task in tasks:\n",
    "        executor.submit(task.execute())\n",
    "        executor.submit(new_counter.update(task.get_value()))\n",
    "        print(new_counter.get_value())\n",
    "        \n",
    "print(\"\\n\", new_counter.get_value())"
   ]
  }
 ],
 "metadata": {
  "julynter-results": {
   "filteredId": [],
   "filteredIndividual": [],
   "filteredRestart": [],
   "filteredType": [],
   "hash": "47583fc0a18fc8dfe9ddac268b687b19a2200e6f",
   "visible": [
    {
     "cellId": "group",
     "hash": "c0de46ba034d710c2b2406a37ee6816be9634aa0",
     "reason": "This groups other lint messages",
     "reportId": "group",
     "reportType": "hiddenstate",
     "suggestion": null,
     "text": "Hidden State"
    },
    {
     "cellId": 4,
     "hash": "f2821db0183c8429870245b0a88b9da570eee3d6",
     "reason": "A cell with code changes may produce different results than what it generated before the changes, hampering the reproducibility.",
     "reportId": "h2",
     "reportType": "hiddenstate",
     "suggestion": "Please consider re-executing it to guarantee the reproducibility.",
     "text": "Cell 4 has changed since its execution, but it wasn't executed after the changes"
    },
    {
     "cellId": 19,
     "hash": "949f18446527f5f11ef9fd6e678bb68b9b933171",
     "reason": "A cell with results of a previous session may fail to execute or produce different results in this one, hampering the reproducibility.",
     "reportId": "h1",
     "reportType": "hiddenstate",
     "suggestion": "Please consider executing it to guarantee the reproducibility.",
     "text": "Cell 19 has execution results, but it wasn't executed on this session"
    },
    {
     "cellId": 25,
     "hash": "d0deb343c71fcfd18baca9569ab3964ff35c1baa",
     "reason": "A cell with code changes may produce different results than what it generated before the changes, hampering the reproducibility.",
     "reportId": "h2",
     "reportType": "hiddenstate",
     "suggestion": "Please consider re-executing it to guarantee the reproducibility.",
     "text": "Cell 25 has changed since its execution, but it wasn't executed after the changes"
    },
    {
     "cellId": 26,
     "hash": "ce113d3a0821d9912b207099f97ff252298e4d30",
     "reason": "A cell with code changes may produce different results than what it generated before the changes, hampering the reproducibility.",
     "reportId": "h2",
     "reportType": "hiddenstate",
     "suggestion": "Please consider re-executing it to guarantee the reproducibility.",
     "text": "Cell 26 has changed since its execution, but it wasn't executed after the changes"
    },
    {
     "cellId": 27,
     "hash": "2e1af1e0c1c5c286ef93fa74b965ce4a6137bced",
     "reason": "A cell with code changes may produce different results than what it generated before the changes, hampering the reproducibility.",
     "reportId": "h2",
     "reportType": "hiddenstate",
     "suggestion": "Please consider re-executing it to guarantee the reproducibility.",
     "text": "Cell 27 has changed since its execution, but it wasn't executed after the changes"
    },
    {
     "cellId": 25,
     "hash": "83eafa739e2c6136278cafcc324a1a3be8f91a57",
     "reason": "A skip in the execution count might indicate the presence of a hidden state caused by a cell that does not exist anymore. Hidden states might prevent cells from executing or producing the same results, hampering the reproducibility.",
     "reportId": "h4",
     "reportType": "hiddenstate",
     "suggestion": "Please consider re-running the notebook to guarantee the reproducibility.",
     "text": "Cell 25 skips the execution count"
    },
    {
     "cellId": 27,
     "hash": "54e7af2ce411d20a9068279b434229c37245e4b1",
     "reason": "The cell uses a name that does not exist in this notebook. Using a name that does not exist prevents the reproducibility of the notebook.",
     "reportId": "h6",
     "reportType": "hiddenstate",
     "suggestion": "Please consider defining them to guarantee the reproducibility.",
     "text": "Cell 27 has the following undefined names: 'np'"
    },
    {
     "cellId": 14,
     "hash": "849c7820c9b496a778ec178d1516068f8244eb18",
     "reason": "A skip in the execution count might indicate the presence of a hidden state caused by a cell that does not exist anymore. Hidden states might prevent cells from executing or producing the same results, hampering the reproducibility.",
     "reportId": "h4",
     "reportType": "hiddenstate",
     "suggestion": "Please consider re-running the notebook to guarantee the reproducibility.",
     "text": "Cell 14 skips the execution count"
    },
    {
     "cellId": 19,
     "hash": "249815da461fd54f291c5389093abf5665a4ef7a",
     "reason": "A skip in the execution count might indicate the presence of a hidden state caused by a cell that does not exist anymore. Hidden states might prevent cells from executing or producing the same results, hampering the reproducibility.",
     "reportId": "h4",
     "reportType": "hiddenstate",
     "suggestion": "Please consider re-running the notebook to guarantee the reproducibility.",
     "text": "Cell 19 skips the execution count"
    },
    {
     "cellId": "group",
     "hash": "19d3d3d153f22e318cbe061df9e685ba5165b0aa",
     "reason": "This groups other lint messages",
     "reportId": "group",
     "reportType": "confusenotebook",
     "suggestion": null,
     "text": "Confuse Notebook"
    },
    {
     "cellId": 25,
     "hash": "62351b75993cafeca08bde78de4707aeb50e0033",
     "reason": "When you try to run all cells following the top-down order, cells in the wrong order might fail to execute or produce different results, hampering the reproducibility.",
     "reportId": "c2",
     "reportType": "confusenotebook",
     "suggestion": "Please consider re-running the notebook to guarantee the reproducibility.",
     "text": "Cell 25 has the execution count 5 in the wrong order"
    },
    {
     "cellId": 27,
     "hash": "21e69df221d81633def4a8958e85ec3598166b02",
     "reason": "A markdown cell at the end of the notebook can conclude it, presenting a summary of the obtained results.",
     "reportId": "c5",
     "reportType": "confusenotebook",
     "suggestion": "Please consider adding a markdown cell to conclude the notebook.",
     "text": "The last cell of the notebook is not a markdown cell"
    },
    {
     "cellId": "group",
     "hash": "d6fbc9d2bdd580e18ed0bc5805dc26db323d6f5f",
     "reason": "This groups other lint messages",
     "reportId": "group",
     "reportType": "import",
     "suggestion": null,
     "text": "Import"
    },
    {
     "cellId": 25,
     "hash": "3d84cba0047209e3daa1674ad2e6a7427199dd0d",
     "reason": "Imports at the beginning of the notebook allow for a quick failure in the case of a non-installed dependency. It prevents users from stopping their executions for installing dependencies. Additionally, imports in the middle might reduce notebooks' readability by taking the attention from the logic to the import constructs.",
     "reportId": "i1",
     "reportType": "import",
     "suggestion": "Please consider moving the import to the first cell of the notebook.",
     "text": "Cell 25 has imports but it is not the first cell"
    },
    {
     "cellId": 26,
     "hash": "fdcec6c05c5e5eca742e371d714ee30dac36a51e",
     "reason": "Imports at the beginning of the notebook allow for a quick failure in the case of a non-installed dependency. It prevents users from stopping their executions for installing dependencies. Additionally, imports in the middle might reduce notebooks' readability by taking the attention from the logic to the import constructs.",
     "reportId": "i1",
     "reportType": "import",
     "suggestion": "Please consider moving the import to the first cell of the notebook.",
     "text": "Cell 26 has imports but it is not the first cell"
    },
    {
     "cellId": 14,
     "hash": "d7b579d9b5aea3cb64a8d9633679142b8a7349e3",
     "reason": "Imports at the beginning of the notebook allow for a quick failure in the case of a non-installed dependency. It prevents users from stopping their executions for installing dependencies. Additionally, imports in the middle might reduce notebooks' readability by taking the attention from the logic to the import constructs.",
     "reportId": "i1",
     "reportType": "import",
     "suggestion": "Please consider moving the import to the first cell of the notebook.",
     "text": "Cell 14 has imports but it is not the first cell"
    },
    {
     "cellId": 15,
     "hash": "e738f385860f6cffd257deabfa4c761ab17cbfe6",
     "reason": "Imports at the beginning of the notebook allow for a quick failure in the case of a non-installed dependency. It prevents users from stopping their executions for installing dependencies. Additionally, imports in the middle might reduce notebooks' readability by taking the attention from the logic to the import constructs.",
     "reportId": "i1",
     "reportType": "import",
     "suggestion": "Please consider moving the import to the first cell of the notebook.",
     "text": "Cell 15 has imports but it is not the first cell"
    },
    {
     "cellId": 16,
     "hash": "5935384108a06628164deae5f8515fb23c0a256b",
     "reason": "Imports at the beginning of the notebook allow for a quick failure in the case of a non-installed dependency. It prevents users from stopping their executions for installing dependencies. Additionally, imports in the middle might reduce notebooks' readability by taking the attention from the logic to the import constructs.",
     "reportId": "i1",
     "reportType": "import",
     "suggestion": "Please consider moving the import to the first cell of the notebook.",
     "text": "Cell 16 has imports but it is not the first cell"
    }
   ]
  },
  "kernelspec": {
   "display_name": "Python 3",
   "language": "python",
   "name": "python3"
  },
  "language_info": {
   "codemirror_mode": {
    "name": "ipython",
    "version": 3
   },
   "file_extension": ".py",
   "mimetype": "text/x-python",
   "name": "python",
   "nbconvert_exporter": "python",
   "pygments_lexer": "ipython3",
   "version": "3.6.3"
  }
 },
 "nbformat": 4,
 "nbformat_minor": 4
}
